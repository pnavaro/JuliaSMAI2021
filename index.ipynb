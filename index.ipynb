{
 "cells": [
  {
   "outputs": [],
   "cell_type": "code",
   "source": [
    "using DifferentialEquations, Plots\n",
    "\n",
    "g = 9.79 # Gravitational constants\n",
    "L = 1.00 # Length of the pendulum\n",
    "\n",
    "#Initial Conditions\n",
    "u₀ = [0, π / 60] # Initial speed and initial angle\n",
    "tspan = (0.0, 6.3) # time domain\n",
    "\n",
    "#Define the problem\n",
    "function simplependulum(du, u, p, t)\n",
    "    θ = u[1]\n",
    "    dθ = u[2]\n",
    "    du[1] = dθ\n",
    "    du[2] = -(g/L)*θ\n",
    "end\n",
    "\n",
    "#Pass to solvers\n",
    "prob = ODEProblem(simplependulum, u₀, tspan)\n",
    "sol = solve(prob, Tsit5(), reltol = 1e-6)"
   ],
   "metadata": {},
   "execution_count": null
  },
  {
   "cell_type": "markdown",
   "source": [
    "Analytic and computed solution"
   ],
   "metadata": {}
  },
  {
   "outputs": [],
   "cell_type": "code",
   "source": [
    "u = u₀[2] .* cos.(sqrt(g / L) .* sol.t)\n",
    "\n",
    "scatter(sol.t, getindex.(sol.u, 2), label = \"Numerical\")\n",
    "plot!(sol.t, u, label = \"Analytic\")"
   ],
   "metadata": {},
   "execution_count": null
  },
  {
   "cell_type": "markdown",
   "source": [
    "[Numbers with Uncertainties](http://tutorials.juliadiffeq.org/html/type_handling/02-uncertainties.html)"
   ],
   "metadata": {}
  },
  {
   "outputs": [],
   "cell_type": "code",
   "source": [
    "using Measurements\n",
    "\n",
    "g = 9.79 ± 0.02; # Gravitational constants\n",
    "L = 1.00 ± 0.01; # Length of the pendulum\n",
    "\n",
    "#Initial Conditions\n",
    "u₀ = [0 ± 0, π / 60 ± 0.01] # Initial speed and initial angle\n",
    "\n",
    "#Define the problem\n",
    "function simplependulum(du, u, p, t)\n",
    "    θ = u[1]\n",
    "    dθ = u[2]\n",
    "    du[1] = dθ\n",
    "    du[2] = -(g/L)*θ\n",
    "end\n",
    "\n",
    "#Pass to solvers\n",
    "prob = ODEProblem(simplependulum, u₀, tspan)\n",
    "sol = solve(prob, Tsit5(), reltol = 1e-6);\n",
    "nothing # hide"
   ],
   "metadata": {},
   "execution_count": null
  },
  {
   "cell_type": "markdown",
   "source": [
    "Analytic solution"
   ],
   "metadata": {}
  },
  {
   "outputs": [],
   "cell_type": "code",
   "source": [
    "u = u₀[2] .* cos.(sqrt(g / L) .* sol.t)\n",
    "\n",
    "plot(sol.t, getindex.(sol.u, 2), label = \"Numerical\")\n",
    "plot!(sol.t, u, label = \"Analytic\")"
   ],
   "metadata": {},
   "execution_count": null
  },
  {
   "cell_type": "markdown",
   "source": [
    "### Optimizing Julia code is often done at the expense of transparency"
   ],
   "metadata": {}
  },
  {
   "outputs": [],
   "cell_type": "code",
   "source": [
    "using Random, LinearAlgebra, BenchmarkTools\n",
    "\n",
    "A = rand(1024, 256); B = rand(256, 1024); C = rand(1024, 1024)\n",
    "\n",
    "function test1(A, B, C)\n",
    "    C = C - A * B\n",
    "    return C\n",
    "end\n",
    "\n",
    "@btime test1(A, B, C); #C, A and B are matrices."
   ],
   "metadata": {},
   "execution_count": null
  },
  {
   "cell_type": "markdown",
   "source": [
    "--"
   ],
   "metadata": {}
  },
  {
   "outputs": [],
   "cell_type": "code",
   "source": [
    "function test2(A, B, C)\n",
    "    C .-= A * B\n",
    "    return C\n",
    "end\n",
    "\n",
    "@btime test2(A, B, C); #C, A and B are matrices."
   ],
   "metadata": {},
   "execution_count": null
  },
  {
   "cell_type": "markdown",
   "source": [
    "---"
   ],
   "metadata": {}
  },
  {
   "outputs": [],
   "cell_type": "code",
   "source": [
    "function test_opt(A, B, C)\n",
    "    BLAS.gemm!('N','N', -1., A, B, 1., C)\n",
    "    return C\n",
    "end\n",
    "@btime test_opt(A, B, C) # avoids taking two unnecessary copies of the matrix C."
   ],
   "metadata": {},
   "execution_count": null
  },
  {
   "cell_type": "markdown",
   "source": [
    "--"
   ],
   "metadata": {}
  },
  {
   "outputs": [],
   "cell_type": "code",
   "source": [
    "C = rand(1024, 1024)\n",
    "all(test1(A, B, C) .== test2(A, B, C))"
   ],
   "metadata": {},
   "execution_count": null
  },
  {
   "cell_type": "markdown",
   "source": [
    "--"
   ],
   "metadata": {}
  },
  {
   "outputs": [],
   "cell_type": "code",
   "source": [
    "C = rand(1024, 1024)\n",
    "all(test1(A, B, C) .== test_opt(A, B, C))"
   ],
   "metadata": {},
   "execution_count": null
  },
  {
   "cell_type": "markdown",
   "source": [
    "### Derivative computation with FFT"
   ],
   "metadata": {}
  },
  {
   "outputs": [],
   "cell_type": "code",
   "source": [
    "using FFTW\n",
    "\n",
    "xmin, xmax, nx = 0, 4π, 1024\n",
    "ymin, ymax, ny = 0, 4π, 1024\n",
    "\n",
    "x = LinRange(xmin, xmax, nx+1)[1:end-1]\n",
    "y = LinRange(ymin, ymax, ny+1)[1:end-1]\n",
    "\n",
    "ky  = 2π ./ (ymax-ymin) .* [0:ny÷2-1;ny÷2-ny:-1]\n",
    "exky = exp.( 1im .* ky' .* x)\n",
    "\n",
    "function df_dy( f, exky )\n",
    "    ifft(exky .* fft(f, 2), 2)\n",
    "end\n",
    "\n",
    "f = sin.(x) .* cos.(y') # f is a 2d array created by broadcasting\n",
    "\n",
    "@btime df_dy(f, exky)"
   ],
   "metadata": {},
   "execution_count": null
  },
  {
   "cell_type": "markdown",
   "source": [
    "### Memory alignement, and inplace computation."
   ],
   "metadata": {}
  },
  {
   "outputs": [],
   "cell_type": "code",
   "source": [
    "f  = zeros(ComplexF64, (nx,ny))\n",
    "fᵗ = zeros(ComplexF64, reverse(size(f)))\n",
    "f̂ᵗ = zeros(ComplexF64, reverse(size(f)))\n",
    "\n",
    "f .= sin.(x) .* cos.(y')\n",
    "\n",
    "fft_plan = plan_fft(fᵗ, 1, flags=FFTW.PATIENT)\n",
    "\n",
    "function df_dy!( f, fᵗ, f̂ᵗ, exky )\n",
    "    transpose!(fᵗ,f)\n",
    "    mul!(f̂ᵗ,  fft_plan, fᵗ)\n",
    "    f̂ᵗ .= f̂ᵗ .* exky\n",
    "    ldiv!(fᵗ, fft_plan, f̂ᵗ)\n",
    "    transpose!(f, fᵗ)\n",
    "end\n",
    "\n",
    "@btime df_dy!(f, fᵗ, f̂ᵗ, exky )"
   ],
   "metadata": {},
   "execution_count": null
  },
  {
   "cell_type": "markdown",
   "source": [
    "---\n",
    "\n",
    "*This notebook was generated using [Literate.jl](https://github.com/fredrikekre/Literate.jl).*"
   ],
   "metadata": {}
  }
 ],
 "nbformat_minor": 3,
 "metadata": {
  "language_info": {
   "file_extension": ".jl",
   "mimetype": "application/julia",
   "name": "julia",
   "version": "1.6.1"
  },
  "kernelspec": {
   "name": "julia-1.6",
   "display_name": "Julia 1.6.1",
   "language": "julia"
  }
 },
 "nbformat": 4
}
