{
 "cells": [
  {
   "cell_type": "markdown",
   "source": [
    "# Implement your own numerical methods to solve\n",
    "\n",
    "$$\n",
    "y'(t) = 1 - y(t),  t \\in [0,5],  y(0) = 0.\n",
    "$$"
   ],
   "metadata": {}
  },
  {
   "cell_type": "markdown",
   "source": [
    "--"
   ],
   "metadata": {}
  },
  {
   "cell_type": "markdown",
   "source": [
    "## Explicit Euler"
   ],
   "metadata": {}
  },
  {
   "outputs": [],
   "cell_type": "code",
   "source": [
    "euler(f, t, y, h) = t + h, y + h * f(t, y)"
   ],
   "metadata": {},
   "execution_count": null
  },
  {
   "cell_type": "markdown",
   "source": [
    "## Runge-Kutta 2nd order"
   ],
   "metadata": {}
  },
  {
   "outputs": [],
   "cell_type": "code",
   "source": [
    "rk2(f, t, y, h) = begin\n",
    "    ỹ = y + h / 2 * f(t, y)\n",
    "    t + h, y + h * f(t + h / 2, ỹ)\n",
    "end"
   ],
   "metadata": {},
   "execution_count": null
  },
  {
   "cell_type": "markdown",
   "source": [
    "---"
   ],
   "metadata": {}
  },
  {
   "cell_type": "markdown",
   "source": [
    "## Runge-Kutta 4th order"
   ],
   "metadata": {}
  },
  {
   "outputs": [],
   "cell_type": "code",
   "source": [
    "function rk4(f, t, y, dt)\n",
    "\n",
    "    y₁ = dt * f(t, y)\n",
    "    y₂ = dt * f(t + dt / 2, y + y₁ / 2)\n",
    "    y₃ = dt * f(t + dt / 2, y + y₂ / 2)\n",
    "    y₄ = dt * f(t + dt, y + y₃)\n",
    "\n",
    "    t + dt, y + (y₁ + 2 * y₂ + 2 * y₃ + y₄) / 6\n",
    "\n",
    "end"
   ],
   "metadata": {},
   "execution_count": null
  },
  {
   "cell_type": "markdown",
   "source": [
    "---"
   ],
   "metadata": {}
  },
  {
   "cell_type": "markdown",
   "source": [
    "## Solve function"
   ],
   "metadata": {}
  },
  {
   "outputs": [],
   "cell_type": "code",
   "source": [
    "function dsolve(f, method, t₀, y₀, h, nsteps)\n",
    "\n",
    "    t = zeros(Float64, nsteps)\n",
    "    y = similar(t)\n",
    "\n",
    "    t[1] = t₀\n",
    "    y[1] = y₀\n",
    "\n",
    "    for i = 2:nsteps\n",
    "        t[i], y[i] = method(f, t[i-1], y[i-1], h)\n",
    "    end\n",
    "\n",
    "    t, y\n",
    "\n",
    "end"
   ],
   "metadata": {},
   "execution_count": null
  },
  {
   "cell_type": "markdown",
   "source": [
    "---"
   ],
   "metadata": {}
  },
  {
   "cell_type": "markdown",
   "source": [
    "## Plot solutions"
   ],
   "metadata": {}
  },
  {
   "outputs": [],
   "cell_type": "code",
   "source": [
    "using Plots\n",
    "\n",
    "nsteps, tfinal = 7, 5.0\n",
    "t₀, x₀ = 0.0, 0.0\n",
    "dt = tfinal / (nsteps - 1)\n",
    "f(t, x) = 1 - x\n",
    "\n",
    "t, y_euler = dsolve(f, euler, t₀, x₀, dt, nsteps)\n",
    "\n",
    "t, y_rk2 = dsolve(f, rk2, t₀, x₀, dt, nsteps)\n",
    "\n",
    "t, y_rk4 = dsolve(f, rk4, t₀, x₀, dt, nsteps)"
   ],
   "metadata": {},
   "execution_count": null
  },
  {
   "cell_type": "markdown",
   "source": [
    "---"
   ],
   "metadata": {}
  },
  {
   "outputs": [],
   "cell_type": "code",
   "source": [
    "plot(t, y_euler; marker = :o, label = \"Euler\")\n",
    "plot!(t, y_rk2; marker = :d, label = \"RK2\")\n",
    "plot!(t, y_rk4; marker = :p, label = \"RK4\")\n",
    "plot!(t -> 1 - exp(-t); line = 3, label = \"true solution\")\n",
    "savefig(\"dsolve.png\") #hide"
   ],
   "metadata": {},
   "execution_count": null
  },
  {
   "cell_type": "markdown",
   "source": [
    "![dsolve](dsolve.png)"
   ],
   "metadata": {}
  },
  {
   "cell_type": "markdown",
   "source": [
    "---"
   ],
   "metadata": {}
  },
  {
   "cell_type": "markdown",
   "source": [
    "## DifferentialEquations.jl"
   ],
   "metadata": {}
  },
  {
   "outputs": [],
   "cell_type": "code",
   "source": [
    "using DifferentialEquations\n",
    "\n",
    "f(y, p, t) = 1.0 - y\n",
    "y₀, t = 0.0, (0.0, 5.0)\n",
    "\n",
    "prob = ODEProblem(f, y₀, t)\n",
    "\n",
    "sol_euler = solve(prob, Euler(), dt = 1.0)\n",
    "sol = solve(prob)"
   ],
   "metadata": {},
   "execution_count": null
  },
  {
   "cell_type": "markdown",
   "source": [
    "---"
   ],
   "metadata": {}
  },
  {
   "outputs": [],
   "cell_type": "code",
   "source": [
    "plot(sol_euler, label = \"Euler\")\n",
    "plot!(sol, label = \"default\")\n",
    "plot!(1:0.1:5, t -> 1.0 - exp(-t), lw = 3, ls = :dash, label = \"True Solution!\")\n",
    "\n",
    "savefig(\"diffeq.png\"); nothing #hide"
   ],
   "metadata": {},
   "execution_count": null
  },
  {
   "cell_type": "markdown",
   "source": [
    "![diffeq](diffeq.png)"
   ],
   "metadata": {}
  },
  {
   "cell_type": "markdown",
   "source": [
    "---"
   ],
   "metadata": {}
  },
  {
   "cell_type": "markdown",
   "source": [
    "`sol.t` is the array of time points that the solution was saved at"
   ],
   "metadata": {}
  },
  {
   "outputs": [],
   "cell_type": "code",
   "source": [
    "sol.t"
   ],
   "metadata": {},
   "execution_count": null
  },
  {
   "cell_type": "markdown",
   "source": [
    "`sol.u` is the array of solution values"
   ],
   "metadata": {}
  },
  {
   "outputs": [],
   "cell_type": "code",
   "source": [
    "sol.u"
   ],
   "metadata": {},
   "execution_count": null
  },
  {
   "cell_type": "markdown",
   "source": [
    "---"
   ],
   "metadata": {}
  },
  {
   "outputs": [],
   "cell_type": "code",
   "source": [
    "function lorenz(du, u, p, t)\n",
    "    du[1] = 10.0 * (u[2] - u[1])\n",
    "    du[2] = u[1] * (28.0 - u[3]) - u[2]\n",
    "    du[3] = u[1] * u[2] - (8 / 3) * u[3]\n",
    "end\n",
    "\n",
    "u0 = [1.0; 0.0; 0.0]\n",
    "tspan = (0.0, 100.0)\n",
    "prob = ODEProblem(lorenz, u0, tspan)\n",
    "\n",
    "sol = solve(prob)"
   ],
   "metadata": {},
   "execution_count": null
  },
  {
   "cell_type": "markdown",
   "source": [
    "---"
   ],
   "metadata": {}
  },
  {
   "outputs": [],
   "cell_type": "code",
   "source": [
    "plot(sol, vars = (1, 2, 3))\n",
    "\n",
    "savefig(\"lorenz.png\"); nothing #hide"
   ],
   "metadata": {},
   "execution_count": null
  },
  {
   "cell_type": "markdown",
   "source": [
    "![lorenz](lorenz.png)"
   ],
   "metadata": {}
  },
  {
   "cell_type": "markdown",
   "source": [
    "---"
   ],
   "metadata": {}
  },
  {
   "outputs": [],
   "cell_type": "code",
   "source": [
    "using ParameterizedFunctions\n",
    "\n",
    "lotka_volterra = @ode_def begin\n",
    "  d🐁 = α*🐁  - β*🐁*🐈\n",
    "  d🐈 = -γ*🐈 + δ*🐁*🐈\n",
    "end α β γ δ\n",
    "\n",
    "u0 = [1.0, 1.0] # Initial condition\n",
    "\n",
    "tspan = (0.0, 10.0) # Simulation interval\n",
    "tsteps = 0.0:0.1:10.0 # intermediary points\n",
    "\n",
    "p = [1.5, 1.0, 3.0, 1.0] # equation parameters: p = [α, β, δ, γ]\n",
    "\n",
    "prob = ODEProblem(lotka_volterra, u0, tspan, p)\n",
    "sol = solve(prob)"
   ],
   "metadata": {},
   "execution_count": null
  },
  {
   "cell_type": "markdown",
   "source": [
    "---"
   ],
   "metadata": {}
  },
  {
   "cell_type": "markdown",
   "source": [
    "# Type-Dispatch Programming\n",
    "\n",
    "- Centered around implementing the generic template of the algorithm not around building representations of data.\n",
    "- The data type choose how to efficiently implement the algorithm.\n",
    "- With this feature share and reuse code is very easy\n",
    "\n",
    "[JuliaCon 2019 | The Unreasonable Effectiveness of Multiple Dispatch | Stefan Karpinski](https://youtu.be/kc9HwsxE1OY)"
   ],
   "metadata": {}
  },
  {
   "cell_type": "markdown",
   "source": [
    "---"
   ],
   "metadata": {}
  },
  {
   "cell_type": "markdown",
   "source": [
    "Simple gravity pendulum"
   ],
   "metadata": {}
  },
  {
   "outputs": [],
   "cell_type": "code",
   "source": [
    "using DifferentialEquations, Plots\n",
    "\n",
    "g = 9.79 # Gravitational constants\n",
    "L = 1.00 # Length of the pendulum\n",
    "\n",
    "#Initial Conditions\n",
    "u₀ = [0, π / 60] # Initial speed and initial angle\n",
    "tspan = (0.0, 6.3) # time domain\n",
    "\n",
    "#Define the problem\n",
    "function simplependulum(du, u, p, t)\n",
    "    θ = u[1]\n",
    "    dθ = u[2]\n",
    "    du[1] = dθ\n",
    "    du[2] = -(g/L)*θ\n",
    "end\n",
    "\n",
    "prob = ODEProblem(simplependulum, u₀, tspan)\n",
    "sol = solve(prob, Tsit5(), reltol = 1e-6)"
   ],
   "metadata": {},
   "execution_count": null
  },
  {
   "cell_type": "markdown",
   "source": [
    "---"
   ],
   "metadata": {}
  },
  {
   "cell_type": "markdown",
   "source": [
    "Analytic and computed solution"
   ],
   "metadata": {}
  },
  {
   "outputs": [],
   "cell_type": "code",
   "source": [
    "u = u₀[2] .* cos.(sqrt(g / L) .* sol.t)\n",
    "\n",
    "scatter(sol.t, getindex.(sol.u, 2), label = \"Numerical\")\n",
    "plot!(sol.t, u, label = \"Analytic\")\n",
    "savefig(\"pendulum1.svg\"); nothing # hide"
   ],
   "metadata": {},
   "execution_count": null
  },
  {
   "cell_type": "markdown",
   "source": [
    "![](pendulum1.svg)"
   ],
   "metadata": {}
  },
  {
   "cell_type": "markdown",
   "source": [
    "---"
   ],
   "metadata": {}
  },
  {
   "cell_type": "markdown",
   "source": [
    "[Numbers with Uncertainties](http://tutorials.juliadiffeq.org/html/type_handling/02-uncertainties.html)"
   ],
   "metadata": {}
  },
  {
   "outputs": [],
   "cell_type": "code",
   "source": [
    "using Measurements\n",
    "\n",
    "g = 9.79 ± 0.02; # Gravitational constants\n",
    "L = 1.00 ± 0.01; # Length of the pendulum\n",
    "\n",
    "#Initial Conditions\n",
    "u₀ = [0 ± 0, π / 60 ± 0.01] # Initial speed and initial angle\n",
    "\n",
    "#Define the problem\n",
    "function simplependulum(du, u, p, t)\n",
    "    θ = u[1]\n",
    "    dθ = u[2]\n",
    "    du[1] = dθ\n",
    "    du[2] = -(g/L)*θ\n",
    "end\n",
    "\n",
    "#Pass to solvers\n",
    "prob = ODEProblem(simplependulum, u₀, tspan)\n",
    "sol = solve(prob, Tsit5(), reltol = 1e-6);\n",
    "nothing # hide"
   ],
   "metadata": {},
   "execution_count": null
  },
  {
   "cell_type": "markdown",
   "source": [
    "Analytic solution"
   ],
   "metadata": {}
  },
  {
   "outputs": [],
   "cell_type": "code",
   "source": [
    "u = u₀[2] .* cos.(sqrt(g / L) .* sol.t)\n",
    "\n",
    "plot(sol.t, getindex.(sol.u, 2), label = \"Numerical\")\n",
    "plot!(sol.t, u, label = \"Analytic\")\n",
    "savefig(\"pendulum2.svg\"); nothing # hide"
   ],
   "metadata": {},
   "execution_count": null
  },
  {
   "cell_type": "markdown",
   "source": [
    "![](pendulum2.svg)"
   ],
   "metadata": {}
  },
  {
   "cell_type": "markdown",
   "source": [
    "---\n",
    "# Poisson Equation\n",
    "\n",
    "$$\n",
    "\\frac{\\partial^2 u}{\\partial x^2} = b  \\qquad x \\in [0,1]\n",
    "$$\n",
    "\n",
    "$$\n",
    "u(0) = u(1) = 0, \\qquad b = \\sin(2\\pi x)\n",
    "$$"
   ],
   "metadata": {}
  },
  {
   "outputs": [],
   "cell_type": "code",
   "source": [
    "using Plots, SparseArrays\n",
    "\n",
    "\n",
    "Δx = 0.05\n",
    "x = Δx:Δx:1-Δx ## Solve only interior points: the endpoints are set to zero.\n",
    "n = length(x)\n",
    "B = sin.(2π*x) * Δx^2\n",
    "\n",
    "P = spdiagm( -1 =>    ones(Float64,n-1),\n",
    "              0 => -2*ones(Float64,n),\n",
    "              1 =>    ones(Float64,n-1))\n",
    "\n",
    "u1 = P \\ B"
   ],
   "metadata": {},
   "execution_count": null
  },
  {
   "cell_type": "markdown",
   "source": [
    "---"
   ],
   "metadata": {}
  },
  {
   "outputs": [],
   "cell_type": "code",
   "source": [
    "plot([0;x;1],[0;u1;0], label=\"computed\")\n",
    "scatter!([0;x;1],-sin.(2π*[0;x;1])/(4π^2),label=\"exact\")\n",
    "savefig(\"poisson1.png\"); nothing #hide"
   ],
   "metadata": {},
   "execution_count": null
  },
  {
   "cell_type": "markdown",
   "source": [
    "![](poisson1.png)"
   ],
   "metadata": {}
  },
  {
   "cell_type": "markdown",
   "source": [
    "---"
   ],
   "metadata": {}
  },
  {
   "cell_type": "markdown",
   "source": [
    "# DiffEqOperators.jl"
   ],
   "metadata": {}
  },
  {
   "outputs": [],
   "cell_type": "code",
   "source": [
    "using DiffEqOperators\n",
    "\n",
    "Δx = 0.05\n",
    "x = Δx:Δx:1-Δx ## Solve only interior points: the endpoints are set to zero.\n",
    "n = length(x)\n",
    "b = sin.(2π*x)\n",
    "\n",
    "# Second order approximation to the second derivative\n",
    "order = 2\n",
    "deriv = 2\n",
    "\n",
    "Δ = CenteredDifference{Float64}(deriv, order, Δx, n)\n",
    "bc = Dirichlet0BC(Float64)\n",
    "\n",
    "u2 = (Δ * bc) \\ b"
   ],
   "metadata": {},
   "execution_count": null
  },
  {
   "cell_type": "markdown",
   "source": [
    "---"
   ],
   "metadata": {}
  },
  {
   "outputs": [],
   "cell_type": "code",
   "source": [
    "plot([0;x;1],[0;u2;0], label=\"computed\")\n",
    "scatter!([0;x;1],-sin.(2π*[0;x;1])/(4π^2),label=\"exact\")\n",
    "savefig(\"poisson2.png\"); nothing #hide"
   ],
   "metadata": {},
   "execution_count": null
  },
  {
   "cell_type": "markdown",
   "source": [
    "![](poisson2.png)"
   ],
   "metadata": {}
  },
  {
   "cell_type": "markdown",
   "source": [
    "---\n",
    "# HOODESolver.jl\n",
    "\n",
    "The objective of this Julia package is to valorize the recent developments carried out within [INRIA team MINGuS](https://team.inria.fr/mingus/) on Uniformly Accurate numerical methods (UA) for highly oscillating problems. We propose to solve the following equation\n",
    "\n",
    "$$\\frac{d u(t)}{dt} = \\frac{1}{\\varepsilon} A u(t) + f(t, u(t)), \\qquad u(t=t_0)=u_0, \\qquad \\varepsilon\\in ]0, 1], \\qquad (1)$$\n",
    "\n",
    "with\n",
    "-  $u : t \\in [t_0, t_1] \\mapsto u(t)\\in \\mathbb{R}^n, \\quad t_0, t_1 \\in \\mathbb{R}$,\n",
    "-  $u_0 \\in \\mathbb{R}^n$,\n",
    "-  $A\\in {\\mathcal{M}}_{n,n}(\\mathbb{R})$ is such that $\\tau \\mapsto \\exp(\\tau A)$ is $2 \\pi$-periodic,\n",
    "-  $f : (t, u) \\in  \\mathbb{R}\\times \\mathbb{R}^n \\mapsto \\mathbb{R}^n$.\n",
    "\n",
    "https://ymocquar.github.io/HOODESolver.jl/stable/\n",
    "\n",
    "Philippe Chartier, Nicolas Crouseilles, Mohammed Lemou, Florian Mehats and Xiaofei Zhao.\n",
    "\n",
    "Package: Yves Mocquard and Pierre Navaro.\n",
    "\n",
    "---\n",
    "\n",
    "## Two-scale formulation\n",
    "\n",
    "First, rewrite equation (1) using the variable change $w(t)=\\exp(-(t-t_0)A/\\varepsilon) u(t)$ to obtain\n",
    "\n",
    "$$\\frac{d w(t)}{dt} = F\\Big(\\frac{t-t_0}{\\varepsilon}, w(t) \\Big), $$\n",
    "\n",
    "$$w(t_0) = u_0, \\varepsilon \\in ]0, 1], $$\n",
    "\n",
    "\n",
    "where the function $F$ is expressed from the data of the original problem (1)\n",
    "\n",
    "$$F\\Big( \\frac{s}{\\varepsilon}, w \\Big) = \\exp(-sA/\\varepsilon) \\; f( \\exp(sA/\\varepsilon), \\; w).$$\n",
    "\n",
    "We then introduce the function $U(t, \\tau), \\tau\\in [0, 2 \\pi]$ such that $U(t, \\tau=(t-t_0)/\\varepsilon) = w(t)$. The two-scale function is then the solution of the following equation.\n",
    "\n",
    "$$\\frac{\\partial U}{\\partial t} + \\frac{1}{\\varepsilon} \\frac{\\partial U}{\\partial \\tau} =  F( \\tau, U), \\;\\;\\; U(t=t_0, \\tau)=\\Phi(\\tau), \\;\\; \\varepsilon\\in ]0, 1], \\;\\;\\;\\;\\;\\;\\;\\;\\;\\; (2)$$\n",
    "\n",
    "where $\\Phi$ is a function checking $\\Phi(\\tau=0)=u_{0}$ chosen so that the $U$ solution of (2) is smooth.\n",
    "\n",
    "\n",
    "---"
   ],
   "metadata": {}
  },
  {
   "cell_type": "markdown",
   "source": [
    "# Hénon-Heiles Example"
   ],
   "metadata": {}
  },
  {
   "cell_type": "markdown",
   "source": [
    "We consider the system of Hénon-Heiles satisfied by $u(t)=(u_1, u_2, u_3, u_4)(t)$.\n",
    "\n",
    "$$\\frac{d u }{dt} = \\frac{1}{\\varepsilon} Au + f(u),  $$\n",
    "$$ u(t_0)=u_0 \\in \\mathbb{R}^4,$$\n",
    "\n",
    "where $A$ and $f$ are selected as follows\n",
    "\n",
    "$$A=\n",
    "\\\\begin{pmatrix}\n",
    "0 & 0 & 1 & 0  \\\\\\\\\n",
    "0 & 0 & 0 & 0  \\\\\\\\\n",
    "-1 & 0 & 0 & 0  \\\\\\\\\n",
    "0 & 0 & 0 & 0\n",
    "\\\\end{pmatrix}, \\qquad\n",
    "f(u) = \\left(\n",
    "\\begin{array}{cccc}\n",
    "0 \\\\\\\\\n",
    "u_4\\\\\\\\\n",
    "-2 u_1 u_2\\\\\\\\\n",
    "-u_2-u_1^2+u_2^2\n",
    "\\end{array}\n",
    "\\right).$$"
   ],
   "metadata": {}
  },
  {
   "cell_type": "markdown",
   "source": [
    "---"
   ],
   "metadata": {}
  },
  {
   "cell_type": "markdown",
   "source": [
    "# SplitODEProblem\n",
    "\n",
    "The `SplitODEProblem` type from package [DifferentialEquations.jl](https://diffeq.sciml.ai/stable/types/split_ode_types/) offers a interface for this kind of problem."
   ],
   "metadata": {}
  },
  {
   "outputs": [],
   "cell_type": "code",
   "source": [
    "using Plots, DifferentialEquations\n",
    "\n",
    "epsilon = 0.002\n",
    "A = [ 0 0 1 0 ;\n",
    "      0 0 0 0 ;\n",
    "     -1 0 0 0 ;\n",
    "      0 0 0 0 ]\n",
    "\n",
    "f1 = DiffEqArrayOperator( A ./ epsilon)\n",
    "\n",
    "function f2(du, u, p, t)\n",
    "    du[1] = 0\n",
    "    du[2] = u[4]\n",
    "    du[3] = 2*u[1]*u[2]\n",
    "    du[4] = -u[2] - u[1]^2 + u[2]^2\n",
    "end\n",
    "\n",
    "tspan = (0.0, 0.1)\n",
    "\n",
    "u0 = [0.55, 0.12, 0.03, 0.89]\n",
    "\n",
    "prob1 = SplitODEProblem(f1, f2, u0, tspan);\n",
    "sol1 = solve(prob1, ETDRK4(), dt=0.001);"
   ],
   "metadata": {},
   "execution_count": null
  },
  {
   "cell_type": "markdown",
   "source": [
    "---"
   ],
   "metadata": {}
  },
  {
   "outputs": [],
   "cell_type": "code",
   "source": [
    "using HOODESolver, Plots\n",
    "\n",
    "A = [ 0 0 1 0 ;\n",
    "      0 0 0 0 ;\n",
    "     -1 0 0 0 ;\n",
    "      0 0 0 0 ]\n",
    "\n",
    "f1 = LinearHOODEOperator( epsilon, A)\n",
    "\n",
    "prob2 = SplitODEProblem(f1, f2, u0, tspan);\n",
    "\n",
    "sol2 = solve(prob2, HOODEAB(), dt=0.01);"
   ],
   "metadata": {},
   "execution_count": null
  },
  {
   "cell_type": "markdown",
   "source": [
    "---"
   ],
   "metadata": {}
  },
  {
   "outputs": [],
   "cell_type": "code",
   "source": [
    "plot(sol1, vars=[3], label=\"EDTRK4\")\n",
    "plot!(sol2, vars=[3], label=\"HOODEAB\")\n",
    "plot!(sol2.t, getindex.(sol2.u, 3), m=:o, label=\"points\")\n",
    "savefig(\"sol1sol2.png\"); nothing #hide"
   ],
   "metadata": {},
   "execution_count": null
  },
  {
   "cell_type": "markdown",
   "source": [
    "![](sol1sol2.png)"
   ],
   "metadata": {}
  },
  {
   "cell_type": "markdown",
   "source": [
    "---"
   ],
   "metadata": {}
  },
  {
   "cell_type": "markdown",
   "source": [
    "# High precision"
   ],
   "metadata": {}
  },
  {
   "outputs": [],
   "cell_type": "code",
   "source": [
    "u0 = BigFloat.([90, -44, 83, 13]//100)\n",
    "t_end = big\"1.0\"\n",
    "epsilon = big\"0.0017\"\n",
    "\n",
    "prob = HOODEProblem(f2, u0, (big\"0.0\",t_end), missing, A, epsilon)"
   ],
   "metadata": {},
   "execution_count": null
  },
  {
   "cell_type": "markdown",
   "source": [
    "The float are coded on 512 bits."
   ],
   "metadata": {}
  },
  {
   "cell_type": "markdown",
   "source": [
    "---"
   ],
   "metadata": {}
  },
  {
   "cell_type": "markdown",
   "source": [
    "## Precision of the result with ε = 0.015"
   ],
   "metadata": {}
  },
  {
   "cell_type": "markdown",
   "source": [
    "![](assets/error_order.png)"
   ],
   "metadata": {}
  },
  {
   "cell_type": "markdown",
   "source": [
    "JOSS paper https://joss.theoj.org/papers/10.21105/joss.03077\n",
    "\n",
    "Much of HOODESolver.jl was implemented by Y. Mocquard while he was supported by Inria through the AdT (Aide au développement technologique) J-Plaff of the center Rennes- Bretagne Atlantique."
   ],
   "metadata": {}
  },
  {
   "cell_type": "markdown",
   "source": [
    "---\n",
    "\n",
    "*This notebook was generated using [Literate.jl](https://github.com/fredrikekre/Literate.jl).*"
   ],
   "metadata": {}
  }
 ],
 "nbformat_minor": 3,
 "metadata": {
  "language_info": {
   "file_extension": ".jl",
   "mimetype": "application/julia",
   "name": "julia",
   "version": "1.6.1"
  },
  "kernelspec": {
   "name": "julia-1.6",
   "display_name": "Julia 1.6.1",
   "language": "julia"
  }
 },
 "nbformat": 4
}
